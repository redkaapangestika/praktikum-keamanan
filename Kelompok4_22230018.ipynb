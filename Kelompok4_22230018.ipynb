{
 "cells": [
  {
   "cell_type": "code",
   "execution_count": 1,
   "id": "99a5cbb1-5949-479d-9f59-2dbc1e0d36f3",
   "metadata": {},
   "outputs": [
    {
     "name": "stdout",
     "output_type": "stream",
     "text": [
      "Sukses: Data disimpan di crawling_twitter.csv\n"
     ]
    }
   ],
   "source": [
    "import requests\n",
    "import json\n",
    "import pandas as pd\n",
    "\n",
    "# Ganti dengan Bearer Token kamu\n",
    "BEARER_TOKEN = 'AAAAAAAAAAAAAAAAAAAAADR60gEAAAAAIz4At1xELg0IQgcGBTgAw4fSRD0%3DIh8pU5CCGa6LdnpCNRHOB83igWKssI9Hxw9C91qfg4t2ONKWfz'\n",
    "\n",
    "# Query pencarian\n",
    "query = 'UTBK2025'\n",
    "\n",
    "# URL endpoint Twitter API\n",
    "search_url = \"https://api.twitter.com/2/tweets/search/recent\"\n",
    "\n",
    "# Parameter query\n",
    "query_params = {\n",
    "    'query': query,\n",
    "    'max_results': 50,  # Bisa diatur antara 10 hingga 100 (lebih dari itu harus pakai pagination)\n",
    "    'tweet.fields': 'author_id,created_at,public_metrics',\n",
    "    'expansions': 'author_id',\n",
    "    'user.fields': 'username'\n",
    "}\n",
    "\n",
    "# Header untuk autentikasi\n",
    "headers = {\n",
    "    'Authorization': f'Bearer {BEARER_TOKEN}',\n",
    "    'User-Agent': 'v2RecentSearchPython'\n",
    "}\n",
    "\n",
    "# Fungsi untuk koneksi ke endpoint\n",
    "def connect_to_endpoint(url, headers, params):\n",
    "    response = requests.get(url, headers=headers, params=params)\n",
    "    if response.status_code != 200:\n",
    "        raise Exception(f\"Request gagal: {response.status_code}, {response.text}\")\n",
    "    return response.json()\n",
    "\n",
    "# Panggil fungsi koneksi\n",
    "json_response = connect_to_endpoint(search_url, headers, query_params)\n",
    "\n",
    "# Ambil data tweet\n",
    "tweets_data = []\n",
    "\n",
    "for tweet in json_response['data']:\n",
    "    tweets_data.append({\n",
    "        'Tweet ID': tweet['id'],\n",
    "        'Author ID': tweet['author_id'],\n",
    "        'Tanggal': tweet['created_at'],\n",
    "        'Isi Tweet': tweet['text'],\n",
    "        'Retweet Count': tweet['public_metrics']['retweet_count'],\n",
    "        'Reply Count': tweet['public_metrics']['reply_count'],\n",
    "        'Like Count': tweet['public_metrics']['like_count'],\n",
    "        'Quote Count': tweet['public_metrics']['quote_count']\n",
    "    })\n",
    "\n",
    "# Simpan data ke file CSV\n",
    "df = pd.DataFrame(tweets_data)\n",
    "df.to_csv('Kelompok4_22230018.csv', index=False)\n",
    "\n",
    "print(\"Sukses: Data disimpan di crawling_twitter.csv\")\n"
   ]
  }
 ],
 "metadata": {
  "kernelspec": {
   "display_name": "Python [conda env:base] *",
   "language": "python",
   "name": "conda-base-py"
  },
  "language_info": {
   "codemirror_mode": {
    "name": "ipython",
    "version": 3
   },
   "file_extension": ".py",
   "mimetype": "text/x-python",
   "name": "python",
   "nbconvert_exporter": "python",
   "pygments_lexer": "ipython3",
   "version": "3.12.7"
  }
 },
 "nbformat": 4,
 "nbformat_minor": 5
}
