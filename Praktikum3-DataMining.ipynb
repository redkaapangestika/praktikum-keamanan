{
 "cells": [
  {
   "cell_type": "code",
   "execution_count": 1,
   "id": "da16c6dc-cb06-4198-8f88-0fc13b48b0f4",
   "metadata": {},
   "outputs": [
    {
     "name": "stdout",
     "output_type": "stream",
     "text": [
      "Collecting Sastrawi\n",
      "  Downloading Sastrawi-1.0.1-py2.py3-none-any.whl.metadata (909 bytes)\n",
      "Downloading Sastrawi-1.0.1-py2.py3-none-any.whl (209 kB)\n",
      "Installing collected packages: Sastrawi\n",
      "Successfully installed Sastrawi-1.0.1\n"
     ]
    }
   ],
   "source": [
    "!pip install Sastrawi"
   ]
  },
  {
   "cell_type": "code",
   "execution_count": 13,
   "id": "f53d8ac6-8283-479d-bd6a-026a4509f976",
   "metadata": {},
   "outputs": [
    {
     "name": "stdout",
     "output_type": "stream",
     "text": [
      "Case Folding : barangnya sesuai harapan, cakep dan mulus. penjualnya juga baik dan ramah. overall, puas banget belanja di sini.\n"
     ]
    }
   ],
   "source": [
    "dokumen1=\"Barangnya sesuai harapan, cakep dan mulus. Penjualnya juga baik dan ramah. Overall, puas banget belanja di sini.\"\n",
    "#Case Folding\n",
    "hasil_cf = str.lower(dokumen1)\n",
    "print(\"Case Folding : \"+hasil_cf);"
   ]
  },
  {
   "cell_type": "code",
   "execution_count": 27,
   "id": "a6e11b43-c13c-49c1-80fd-2e2a61a1f82d",
   "metadata": {},
   "outputs": [
    {
     "name": "stdout",
     "output_type": "stream",
     "text": [
      "Case Folding : barangnya sesuai harapan, cakep dan mulus. penjualnya juga baik dan ramah. overall, puas banget belanja di sini.\n",
      "Token:\n",
      "['barangnya', 'sesuai', 'harapan', 'cakep', 'dan', 'mulus', 'penjualnya', 'juga', 'baik', 'dan', 'ramah', 'overall', 'puas', 'banget', 'belanja', 'di', 'sini']\n"
     ]
    }
   ],
   "source": [
    "dokumen1=\"Barangnya sesuai harapan, cakep dan mulus. Penjualnya juga baik dan ramah. Overall, puas banget belanja di sini.\"  \n",
    "#Case Folding  \n",
    "hasil_cf = str.lower(dokumen1)  \n",
    "print(\"Case Folding : \"+hasil_cf);  \n",
    "\n",
    "#Tokenizing  \n",
    "from nltk.tokenize import RegexpTokenizer  \n",
    "tokenizer = RegexpTokenizer(r'\\w+')  \n",
    "hasil_token = tokenizer.tokenize(hasil_cf)  \n",
    "print(\"Token:\")  \n",
    "print(hasil_token)"
   ]
  },
  {
   "cell_type": "code",
   "execution_count": 3,
   "id": "4f742692-bde1-43bf-8616-0565076fb530",
   "metadata": {},
   "outputs": [
    {
     "name": "stdout",
     "output_type": "stream",
     "text": [
      "Case Folding : barangnya sesuai harapan, cakep dan mulus. penjualnya juga baik dan ramah. overall, puas banget belanja di sini.\n",
      "Token:\n",
      "['barangnya', 'sesuai', 'harapan', 'cakep', 'dan', 'mulus', 'penjualnya', 'juga', 'baik', 'dan', 'ramah', 'overall', 'puas', 'banget', 'belanja', 'di', 'sini']\n",
      "Hasil Stemming:\n",
      "barang sesuai harap cakep dan mulus jual juga baik dan ramah overall puas banget belanja di sini\n"
     ]
    }
   ],
   "source": [
    "dokumen1=\"Barangnya sesuai harapan, cakep dan mulus. Penjualnya juga baik dan ramah. Overall, puas banget belanja di sini.\"  \n",
    "#Case Folding  \n",
    "hasil_cf = str.lower(dokumen1)  \n",
    "print(\"Case Folding : \"+hasil_cf);  \n",
    "\n",
    "#Tokenizing  \n",
    "from nltk.tokenize import RegexpTokenizer  \n",
    "tokenizer = RegexpTokenizer(r'\\w+')  \n",
    "hasil_token = tokenizer.tokenize(hasil_cf)  \n",
    "print(\"Token:\")  \n",
    "print(hasil_token)\n",
    "\n",
    "# Stemming\n",
    "from Sastrawi.Stemmer.StemmerFactory import StemmerFactory\n",
    "factory = StemmerFactory()\n",
    "stemmer = factory.create_stemmer()\n",
    "input_stemm = str(hasil_token)\n",
    "hasil_stemm = stemmer.stem(input_stemm)\n",
    "print(\"Hasil Stemming:\")\n",
    "print(hasil_stemm)"
   ]
  },
  {
   "cell_type": "code",
   "execution_count": 11,
   "id": "aec4db8c-4503-4d23-9c06-694f49f4e232",
   "metadata": {},
   "outputs": [
    {
     "name": "stdout",
     "output_type": "stream",
     "text": [
      "Case Folding : barangnya sesuai harapan, cakep dan mulus. penjualnya juga baik dan ramah. overall, puas banget belanja di sini.\n",
      "Token:\n",
      "['barangnya', 'sesuai', 'harapan', 'cakep', 'dan', 'mulus', 'penjualnya', 'juga', 'baik', 'dan', 'ramah', 'overall', 'puas', 'banget', 'belanja', 'di', 'sini']\n",
      "Hasil Stemming:\n",
      "barang sesuai harap cakep dan mulus jual juga baik dan ramah overall puas banget belanja di sini\n",
      "Hasil Setelah Stopword Removal:\n",
      "['barang', 'sesuai', 'harap', 'cakep', 'mulus', 'jual', 'baik', 'ramah', 'overall', 'puas', 'banget', 'belanja', 'sini']\n"
     ]
    }
   ],
   "source": [
    "dokumen1=\"Barangnya sesuai harapan, cakep dan mulus. Penjualnya juga baik dan ramah. Overall, puas banget belanja di sini.\"  \n",
    "#Case Folding  \n",
    "hasil_cf = str.lower(dokumen1)  \n",
    "print(\"Case Folding : \"+hasil_cf);  \n",
    "\n",
    "#Tokenizing  \n",
    "from nltk.tokenize import RegexpTokenizer  \n",
    "tokenizer = RegexpTokenizer(r'\\w+')  \n",
    "hasil_token = tokenizer.tokenize(hasil_cf)  \n",
    "print(\"Token:\")  \n",
    "print(hasil_token)\n",
    "\n",
    "# Stemming\n",
    "from Sastrawi.Stemmer.StemmerFactory import StemmerFactory\n",
    "factory = StemmerFactory()\n",
    "stemmer = factory.create_stemmer()\n",
    "input_stemm = str(hasil_token)\n",
    "hasil_stemm = stemmer.stem(input_stemm)\n",
    "print(\"Hasil Stemming:\")\n",
    "print(hasil_stemm)\n",
    "\n",
    "# Filtering\n",
    "# Tokenisasi ulang hasil stemming\n",
    "token_stemm = tokenizer.tokenize(hasil_stemm)\n",
    "\n",
    "# Ambil daftar stopwords\n",
    "from Sastrawi.StopWordRemover.StopWordRemoverFactory import StopWordRemoverFactory\n",
    "stop_factory = StopWordRemoverFactory()\n",
    "stopwords = stop_factory.get_stop_words()\n",
    "\n",
    "# Hapus stopwords dari hasil stemming\n",
    "hasil_final = [word for word in token_stemm if word not in stopwords]\n",
    "print(\"Hasil Setelah Stopword Removal:\")\n",
    "print(hasil_final)"
   ]
  },
  {
   "cell_type": "code",
   "execution_count": 15,
   "id": "66403479-457d-493e-adaf-5aaf60417730",
   "metadata": {},
   "outputs": [
    {
     "name": "stdout",
     "output_type": "stream",
     "text": [
      "Case Folding : sesuai pesanan. sayangnya pengiriman agak telat.\n",
      "Token:\n",
      "['sesuai', 'pesanan', 'sayangnya', 'pengiriman', 'agak', 'telat']\n",
      "Hasil Stemming:\n",
      "sesuai pesan sayang kirim agak telat\n",
      "Hasil Setelah Stopword Removal:\n",
      "['sesuai', 'pesan', 'sayang', 'kirim', 'telat']\n"
     ]
    }
   ],
   "source": [
    "dokumen2=\"Sesuai pesanan. Sayangnya pengiriman agak telat.\"  \n",
    "#Case Folding  \n",
    "hasil_cf = str.lower(dokumen2)  \n",
    "print(\"Case Folding : \"+hasil_cf);  \n",
    "\n",
    "#Tokenizing  \n",
    "from nltk.tokenize import RegexpTokenizer  \n",
    "tokenizer = RegexpTokenizer(r'\\w+')  \n",
    "hasil_token = tokenizer.tokenize(hasil_cf)  \n",
    "print(\"Token:\")  \n",
    "print(hasil_token)\n",
    "\n",
    "# Stemming\n",
    "from Sastrawi.Stemmer.StemmerFactory import StemmerFactory\n",
    "factory = StemmerFactory()\n",
    "stemmer = factory.create_stemmer()\n",
    "input_stemm = str(hasil_token)\n",
    "hasil_stemm = stemmer.stem(input_stemm)\n",
    "print(\"Hasil Stemming:\")\n",
    "print(hasil_stemm)\n",
    "\n",
    "# Filtering\n",
    "# Tokenisasi ulang hasil stemming\n",
    "token_stemm = tokenizer.tokenize(hasil_stemm)\n",
    "\n",
    "# Ambil daftar stopwords\n",
    "from Sastrawi.StopWordRemover.StopWordRemoverFactory import StopWordRemoverFactory\n",
    "stop_factory = StopWordRemoverFactory()\n",
    "stopwords = stop_factory.get_stop_words()\n",
    "\n",
    "# Hapus stopwords dari hasil stemming\n",
    "hasil_final = [word for word in token_stemm if word not in stopwords]\n",
    "print(\"Hasil Setelah Stopword Removal:\")\n",
    "print(hasil_final)"
   ]
  },
  {
   "cell_type": "code",
   "execution_count": 17,
   "id": "393acc0d-1b5a-405e-8f50-59a3397cb294",
   "metadata": {},
   "outputs": [
    {
     "name": "stdout",
     "output_type": "stream",
     "text": [
      "Case Folding : puas banget belanja di sini. barang ok dan harga juga sesuai kantong. sip deh.\n",
      "Token:\n",
      "['puas', 'banget', 'belanja', 'di', 'sini', 'barang', 'ok', 'dan', 'harga', 'juga', 'sesuai', 'kantong', 'sip', 'deh']\n",
      "Hasil Stemming:\n",
      "puas banget belanja di sini barang ok dan harga juga sesuai kantong sip deh\n",
      "Hasil Setelah Stopword Removal:\n",
      "['puas', 'banget', 'belanja', 'sini', 'barang', 'harga', 'sesuai', 'kantong', 'sip', 'deh']\n"
     ]
    }
   ],
   "source": [
    "dokumen3=\"Puas banget belanja di sini. Barang ok dan harga juga sesuai kantong. Sip deh.\"  \n",
    "#Case Folding  \n",
    "hasil_cf = str.lower(dokumen3)  \n",
    "print(\"Case Folding : \"+hasil_cf);  \n",
    "\n",
    "#Tokenizing  \n",
    "from nltk.tokenize import RegexpTokenizer  \n",
    "tokenizer = RegexpTokenizer(r'\\w+')  \n",
    "hasil_token = tokenizer.tokenize(hasil_cf)  \n",
    "print(\"Token:\")  \n",
    "print(hasil_token)\n",
    "\n",
    "# Stemming\n",
    "from Sastrawi.Stemmer.StemmerFactory import StemmerFactory\n",
    "factory = StemmerFactory()\n",
    "stemmer = factory.create_stemmer()\n",
    "input_stemm = str(hasil_token)\n",
    "hasil_stemm = stemmer.stem(input_stemm)\n",
    "print(\"Hasil Stemming:\")\n",
    "print(hasil_stemm)\n",
    "\n",
    "# Filtering\n",
    "# Tokenisasi ulang hasil stemming\n",
    "token_stemm = tokenizer.tokenize(hasil_stemm)\n",
    "\n",
    "# Ambil daftar stopwords\n",
    "from Sastrawi.StopWordRemover.StopWordRemoverFactory import StopWordRemoverFactory\n",
    "stop_factory = StopWordRemoverFactory()\n",
    "stopwords = stop_factory.get_stop_words()\n",
    "\n",
    "# Hapus stopwords dari hasil stemming\n",
    "hasil_final = [word for word in token_stemm if word not in stopwords]\n",
    "print(\"Hasil Setelah Stopword Removal:\")\n",
    "print(hasil_final)"
   ]
  },
  {
   "cell_type": "code",
   "execution_count": null,
   "id": "13afbc44-3e23-4618-8ec3-637dfcc10a3b",
   "metadata": {},
   "outputs": [],
   "source": []
  }
 ],
 "metadata": {
  "kernelspec": {
   "display_name": "Python [conda env:base] *",
   "language": "python",
   "name": "conda-base-py"
  },
  "language_info": {
   "codemirror_mode": {
    "name": "ipython",
    "version": 3
   },
   "file_extension": ".py",
   "mimetype": "text/x-python",
   "name": "python",
   "nbconvert_exporter": "python",
   "pygments_lexer": "ipython3",
   "version": "3.12.7"
  }
 },
 "nbformat": 4,
 "nbformat_minor": 5
}
